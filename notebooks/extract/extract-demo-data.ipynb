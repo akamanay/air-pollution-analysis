{
 "cells": [
  {
   "cell_type": "markdown",
   "metadata": {},
   "source": [
    "# Extract CSV Data"
   ]
  },
  {
   "cell_type": "code",
   "execution_count": 2,
   "metadata": {},
   "outputs": [
    {
     "data": {
      "text/html": [
       "<div>\n",
       "<style scoped>\n",
       "    .dataframe tbody tr th:only-of-type {\n",
       "        vertical-align: middle;\n",
       "    }\n",
       "\n",
       "    .dataframe tbody tr th {\n",
       "        vertical-align: top;\n",
       "    }\n",
       "\n",
       "    .dataframe thead th {\n",
       "        text-align: right;\n",
       "    }\n",
       "</style>\n",
       "<table border=\"1\" class=\"dataframe\">\n",
       "  <thead>\n",
       "    <tr style=\"text-align: right;\">\n",
       "      <th></th>\n",
       "      <th>Location</th>\n",
       "      <th>Population</th>\n",
       "      <th>Density (people/km²)</th>\n",
       "      <th>Urbanization (%)</th>\n",
       "      <th>Average Income (USD)</th>\n",
       "      <th>Education Level (% with Bachelor's or higher)</th>\n",
       "    </tr>\n",
       "  </thead>\n",
       "  <tbody>\n",
       "    <tr>\n",
       "      <th>0</th>\n",
       "      <td>Los Angeles</td>\n",
       "      <td>10039107</td>\n",
       "      <td>3276</td>\n",
       "      <td>89</td>\n",
       "      <td>60000</td>\n",
       "      <td>32</td>\n",
       "    </tr>\n",
       "    <tr>\n",
       "      <th>1</th>\n",
       "      <td>Paris</td>\n",
       "      <td>2140526</td>\n",
       "      <td>21383</td>\n",
       "      <td>98</td>\n",
       "      <td>45000</td>\n",
       "      <td>29</td>\n",
       "    </tr>\n",
       "    <tr>\n",
       "      <th>2</th>\n",
       "      <td>Tokyo</td>\n",
       "      <td>13929286</td>\n",
       "      <td>6169</td>\n",
       "      <td>100</td>\n",
       "      <td>55000</td>\n",
       "      <td>37</td>\n",
       "    </tr>\n",
       "    <tr>\n",
       "      <th>3</th>\n",
       "      <td>Antananarivo</td>\n",
       "      <td>1391433</td>\n",
       "      <td>3097</td>\n",
       "      <td>69</td>\n",
       "      <td>1000</td>\n",
       "      <td>10</td>\n",
       "    </tr>\n",
       "    <tr>\n",
       "      <th>4</th>\n",
       "      <td>Nairobi</td>\n",
       "      <td>4397073</td>\n",
       "      <td>6000</td>\n",
       "      <td>61</td>\n",
       "      <td>1500</td>\n",
       "      <td>12</td>\n",
       "    </tr>\n",
       "    <tr>\n",
       "      <th>5</th>\n",
       "      <td>Lima</td>\n",
       "      <td>9674755</td>\n",
       "      <td>3220</td>\n",
       "      <td>81</td>\n",
       "      <td>4500</td>\n",
       "      <td>15</td>\n",
       "    </tr>\n",
       "  </tbody>\n",
       "</table>\n",
       "</div>"
      ],
      "text/plain": [
       "       Location  Population  Density (people/km²)  Urbanization (%)  \\\n",
       "0   Los Angeles    10039107                  3276                89   \n",
       "1         Paris     2140526                 21383                98   \n",
       "2         Tokyo    13929286                  6169               100   \n",
       "3  Antananarivo     1391433                  3097                69   \n",
       "4       Nairobi     4397073                  6000                61   \n",
       "5          Lima     9674755                  3220                81   \n",
       "\n",
       "   Average Income (USD)  Education Level (% with Bachelor's or higher)  \n",
       "0                 60000                                             32  \n",
       "1                 45000                                             29  \n",
       "2                 55000                                             37  \n",
       "3                  1000                                             10  \n",
       "4                  1500                                             12  \n",
       "5                  4500                                             15  "
      ]
     },
     "execution_count": 2,
     "metadata": {},
     "output_type": "execute_result"
    }
   ],
   "source": [
    "import pandas as pd\n",
    "\n",
    "df_demo = pd.read_csv('../data/Demographic_Data.csv')\n",
    "df_demo\n"
   ]
  },
  {
   "cell_type": "code",
   "execution_count": null,
   "metadata": {},
   "outputs": [],
   "source": []
  }
 ],
 "metadata": {
  "kernelspec": {
   "display_name": ".venv",
   "language": "python",
   "name": "python3"
  },
  "language_info": {
   "codemirror_mode": {
    "name": "ipython",
    "version": 3
   },
   "file_extension": ".py",
   "mimetype": "text/x-python",
   "name": "python",
   "nbconvert_exporter": "python",
   "pygments_lexer": "ipython3",
   "version": "3.12.3"
  }
 },
 "nbformat": 4,
 "nbformat_minor": 2
}
